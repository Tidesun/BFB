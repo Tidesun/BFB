{
 "cells": [
  {
   "cell_type": "code",
   "execution_count": 179,
   "metadata": {
    "collapsed": true
   },
   "outputs": [],
   "source": [
    "from random import randint\n",
    "import textwrap"
   ]
  },
  {
   "cell_type": "code",
   "execution_count": 211,
   "metadata": {},
   "outputs": [],
   "source": [
    "with open('./data/chr22.fa') as f:\n",
    "        header = f.readline()\n",
    "        rawStr = f.read().replace('\\n','').replace(' ','')"
   ]
  },
  {
   "cell_type": "code",
   "execution_count": 212,
   "metadata": {
    "collapsed": true
   },
   "outputs": [],
   "source": [
    "def readSequence(rawStr):\n",
    "        start = rawStr.find('A')\n",
    "        end = len(rawStr) - rawStr.rfind('T')\n",
    "        print(start,len(rawStr) - end)\n",
    "        return start,end"
   ]
  },
  {
   "cell_type": "code",
   "execution_count": 213,
   "metadata": {},
   "outputs": [],
   "source": [
    "centromereSt = 13000000\n",
    "centromereEd = 16000000"
   ]
  },
  {
   "cell_type": "code",
   "execution_count": 216,
   "metadata": {},
   "outputs": [
    {
     "name": "stdout",
     "output_type": "stream",
     "text": [
      "16050001 51244565\n"
     ]
    }
   ],
   "source": [
    "st,ed = readSequence(rawStr)"
   ]
  },
  {
   "cell_type": "code",
   "execution_count": 269,
   "metadata": {
    "collapsed": true
   },
   "outputs": [],
   "source": [
    "def fusion_break(s,start,end):\n",
    "    # assume the fusion occurs in right hand side (end side)\n",
    "    # so that the chromo will lose sequence from end to the end of chrom\n",
    "    fusion_region = s[start:end]\n",
    "    break_pos = randint(start, end)\n",
    "    print('chr 22 break at %d' % (break_pos))\n",
    "    print(s[break_pos])\n",
    "    return s[:end] +s[break_pos:end][::-1] + s[end:] "
   ]
  },
  {
   "cell_type": "code",
   "execution_count": 279,
   "metadata": {},
   "outputs": [
    {
     "name": "stdout",
     "output_type": "stream",
     "text": [
      "chr 22 break at 51243990\n",
      "A\n",
      "chr 22 break at 51243821\n",
      "t\n",
      "chr 22 break at 51244548\n",
      "C\n",
      "chr 22 break at 51244037\n",
      "g\n",
      "chr 22 break at 51244535\n",
      "a\n",
      "chr 22 break at 51243945\n",
      "G\n",
      "chr 22 break at 51244176\n",
      "g\n",
      "chr 22 break at 51244516\n",
      "g\n",
      "chr 22 break at 51243879\n",
      "c\n",
      "chr 22 break at 51243789\n",
      "t\n",
      "chr 22 break at 51244038\n",
      "c\n"
     ]
    }
   ],
   "source": [
    "# the breakage should be able to occurs at any position between two centromere\n",
    "# for simplicity breakage only occurs in an area of 1000bp\n",
    "new_s = fusion_break(rawStr,len(rawStr)-ed-1000,len(rawStr)-ed)\n",
    "for i in range(10):\n",
    "    new_s = fusion_break(s,len(s)-ed-1000,len(s)-ed)\n",
    "# new_s = fusion_break(rawStr,centromereEd+1,len(rawStr)-ed)\n",
    "# for i in range(10):\n",
    "#     new_s = fusion_break(s,centromereEd+1,len(s)-ed)"
   ]
  },
  {
   "cell_type": "code",
   "execution_count": 280,
   "metadata": {},
   "outputs": [
    {
     "name": "stdout",
     "output_type": "stream",
     "text": [
      "51305145\n"
     ]
    }
   ],
   "source": [
    "print(len(new_s))"
   ]
  },
  {
   "cell_type": "code",
   "execution_count": 281,
   "metadata": {},
   "outputs": [
    {
     "name": "stdout",
     "output_type": "stream",
     "text": [
      "51304566\n"
     ]
    }
   ],
   "source": [
    "print(len(rawStr))"
   ]
  },
  {
   "cell_type": "code",
   "execution_count": 282,
   "metadata": {},
   "outputs": [],
   "source": [
    "with open('./chr22_sim.fa','w+') as f:\n",
    "    ct = 0\n",
    "    writeStr = header\n",
    "    for char in s:\n",
    "        writeStr += char\n",
    "        ct += 1\n",
    "        if (ct==80):\n",
    "            writeStr += '\\n'\n",
    "            ct = 0\n",
    "    f.write(writeStr)"
   ]
  },
  {
   "cell_type": "code",
   "execution_count": null,
   "metadata": {
    "collapsed": true
   },
   "outputs": [],
   "source": []
  }
 ],
 "metadata": {
  "kernelspec": {
   "display_name": "Python 3",
   "language": "python",
   "name": "python3"
  },
  "language_info": {
   "codemirror_mode": {
    "name": "ipython",
    "version": 3
   },
   "file_extension": ".py",
   "mimetype": "text/x-python",
   "name": "python",
   "nbconvert_exporter": "python",
   "pygments_lexer": "ipython3",
   "version": "3.6.2"
  }
 },
 "nbformat": 4,
 "nbformat_minor": 2
}
