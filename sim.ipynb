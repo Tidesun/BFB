{
 "cells": [
  {
   "cell_type": "code",
   "execution_count": 179,
   "metadata": {
    "collapsed": true
   },
   "outputs": [],
   "source": [
    "from random import randint\n",
    "import textwrap"
   ]
  },
  {
   "cell_type": "code",
   "execution_count": 159,
   "metadata": {},
   "outputs": [],
   "source": [
    "with open('./data/chr22.fa') as f:\n",
    "        header = f.readline()\n",
    "        originRawStr = f.read().replace('\\n','').replace(' ','')"
   ]
  },
  {
   "cell_type": "code",
   "execution_count": 160,
   "metadata": {
    "collapsed": true
   },
   "outputs": [],
   "source": [
    "def readSequence(rawStr):\n",
    "        start = rawStr.find('A')\n",
    "        end = rawStr.rfind('T')\n",
    "        print(start,end)\n",
    "        return start,end"
   ]
  },
  {
   "cell_type": "code",
   "execution_count": 161,
   "metadata": {},
   "outputs": [
    {
     "name": "stdout",
     "output_type": "stream",
     "text": [
      "16050001 51244565\n"
     ]
    }
   ],
   "source": [
    "st,ed = readSequence(originRawStr)\n",
    "rawStr = originRawStr[st:ed]"
   ]
  },
  {
   "cell_type": "code",
   "execution_count": 162,
   "metadata": {
    "collapsed": true
   },
   "outputs": [],
   "source": [
    "lens = len(rawStr)"
   ]
  },
  {
   "cell_type": "code",
   "execution_count": 183,
   "metadata": {
    "collapsed": true
   },
   "outputs": [],
   "source": [
    "def fusion_break(rawStr,start,end):\n",
    "    # assume the fusion occurs in right hand side (end side)\n",
    "    # so that the chromo will lose sequence from end to the end of chrom\n",
    "    fusion_region = rawStr[start:end] + rawStr[start:end+1][::-1]\n",
    "    fusionStart = 0\n",
    "    fusionEnd = len(fusion_region)\n",
    "    break_pos = randint(fusionStart, fusionEnd)\n",
    "    print('chr 22 break at %d' % (st + start + break_pos))\n",
    "    mid = int((fusionStart + fusionEnd)/2)\n",
    "    if (break_pos > mid):\n",
    "        return rawStr[:start] + fusion_region[fusionStart:break_pos]\n",
    "    else :\n",
    "        return rawStr[:start] + fusion_region[break_pos:fusionEnd][::-1]"
   ]
  },
  {
   "cell_type": "code",
   "execution_count": 185,
   "metadata": {},
   "outputs": [
    {
     "name": "stdout",
     "output_type": "stream",
     "text": [
      "chr 22 fusion sequence from 51244510 to 51244565\n",
      "chr 22 break at 51244540\n",
      "chr 22 fusion sequence from 51244506 to 51244590\n",
      "chr 22 break at 51244638\n",
      "chr 22 fusion sequence from 51244551 to 51244638\n",
      "chr 22 break at 51244723\n",
      "chr 22 fusion sequence from 51244632 to 51244723\n",
      "chr 22 break at 51244698\n",
      "chr 22 fusion sequence from 51244662 to 51244748\n",
      "chr 22 break at 51244749\n",
      "chr 22 fusion sequence from 51244660 to 51244749\n",
      "chr 22 break at 51244811\n",
      "chr 22 fusion sequence from 51244711 to 51244811\n",
      "chr 22 break at 51244742\n",
      "chr 22 fusion sequence from 51244781 to 51244880\n",
      "chr 22 break at 51244785\n",
      "chr 22 fusion sequence from 51244912 to 51244975\n",
      "chr 22 break at 51244931\n",
      "chr 22 fusion sequence from 51244934 to 51245019\n",
      "chr 22 break at 51245026\n",
      "chr 22 fusion sequence from 51244931 to 51245026\n",
      "chr 22 break at 51245010\n"
     ]
    }
   ],
   "source": [
    "pos = randint(lens-100,lens-50)\n",
    "print('chr 22 fusion sequence from %d to %d' %(pos+st,lens+st))\n",
    "s = fusion_break(rawStr,pos,lens)\n",
    "for i in range(10):\n",
    "    new_lens = len(s)\n",
    "    pos = randint(new_lens-100,new_lens-50)\n",
    "    print('chr 22 fusion sequence from %d to %d' %(pos+st,new_lens+st))\n",
    "    s = fusion_break(s,pos,new_lens)"
   ]
  },
  {
   "cell_type": "code",
   "execution_count": 186,
   "metadata": {},
   "outputs": [
    {
     "name": "stdout",
     "output_type": "stream",
     "text": [
      "35195041\n"
     ]
    }
   ],
   "source": [
    "print(len(s))"
   ]
  },
  {
   "cell_type": "code",
   "execution_count": 187,
   "metadata": {},
   "outputs": [
    {
     "name": "stdout",
     "output_type": "stream",
     "text": [
      "35194564\n"
     ]
    }
   ],
   "source": [
    "print(lens)"
   ]
  },
  {
   "cell_type": "code",
   "execution_count": 188,
   "metadata": {},
   "outputs": [],
   "source": [
    "with open('./chr22_sim.fa','w+') as f:\n",
    "    ct = 0\n",
    "    writeStr = header\n",
    "    for char in originRawStr[:st]+s+originRawStr[ed:]:\n",
    "        writeStr += char\n",
    "        ct += 1\n",
    "        if (ct==80):\n",
    "            writeStr += '\\n'\n",
    "            ct = 0\n",
    "    f.write(writeStr)"
   ]
  },
  {
   "cell_type": "code",
   "execution_count": null,
   "metadata": {
    "collapsed": true
   },
   "outputs": [],
   "source": []
  }
 ],
 "metadata": {
  "kernelspec": {
   "display_name": "Python 3",
   "language": "python",
   "name": "python3"
  },
  "language_info": {
   "codemirror_mode": {
    "name": "ipython",
    "version": 3
   },
   "file_extension": ".py",
   "mimetype": "text/x-python",
   "name": "python",
   "nbconvert_exporter": "python",
   "pygments_lexer": "ipython3",
   "version": "3.6.2"
  }
 },
 "nbformat": 4,
 "nbformat_minor": 2
}
